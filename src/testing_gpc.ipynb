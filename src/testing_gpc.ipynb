{
 "cells": [
  {
   "cell_type": "code",
   "execution_count": 31,
   "metadata": {},
   "outputs": [
    {
     "name": "stdout",
     "output_type": "stream",
     "text": [
      "[{'id': '10005373', 'name': 'Kroppsalarmer', 'attributes': [{'id': '20002305', 'name': 'Hvis med lommelykt', 'values': [{'id': '30002518', 'name': 'UIDENTIFISERT'}, {'id': '30002654', 'name': 'JA'}, {'id': '30002960', 'name': 'NEI'}]}]}, {'id': '10005374', 'name': 'NÃ¸dflÃ¸yte', 'attributes': [{'id': '20000794', 'name': 'Materialtype', 'values': [{'id': '30002515', 'name': 'UKLASSIFISERT'}, {'id': '30002518', 'name': 'UIDENTIFISERT'}, {'id': '30004052', 'name': 'METALL'}, {'id': '30004152', 'name': 'PLAST'}]}, {'id': '20002306', 'name': 'Hvis med munnvern', 'values': [{'id': '30002518', 'name': 'UIDENTIFISERT'}, {'id': '30002654', 'name': 'JA'}, {'id': '30002960', 'name': 'NEI'}]}]}, {'id': '10005375', 'name': 'NÃ¸kkelring alarm', 'attributes': [{'id': '20002305', 'name': 'Hvis med lommelykt', 'values': [{'id': '30002518', 'name': 'UIDENTIFISERT'}, {'id': '30002654', 'name': 'JA'}, {'id': '30002960', 'name': 'NEI'}]}]}, {'id': '10005376', 'name': 'Personlige bagasjealarmer', 'attributes': [{'id': '20000651', 'name': 'Hvis med fjernkontroll', 'values': [{'id': '30002518', 'name': 'UIDENTIFISERT'}, {'id': '30002654', 'name': 'JA'}, {'id': '30002960', 'name': 'NEI'}]}]}, {'id': '10005377', 'name': 'Personlig sikkerhetsbluss / signaler', 'attributes': [{'id': '20000658', 'name': 'Hvis vanntett', 'values': [{'id': '30002518', 'name': 'UIDENTIFISERT'}, {'id': '30002654', 'name': 'JA'}, {'id': '30002960', 'name': 'NEI'}]}, {'id': '20002307', 'name': 'Type sikkerhetsbluss / signal', 'values': [{'id': '30002515', 'name': 'UKLASSIFISERT'}, {'id': '30002518', 'name': 'UIDENTIFISERT'}, {'id': '30012014', 'name': 'ANTENNE SIKKERHETSFAKKEL'}, {'id': '30012015', 'name': 'MARKÃ˜R'}, {'id': '30012016', 'name': 'HÃ…NDHOLDT SIKKERHETSFAKKEL'}, {'id': '30012017', 'name': 'SIKKERHETSSIGNAL LUFTHORN'}]}]}, {'id': '10005378', 'name': 'Personlig sikkerhetslys', 'attributes': [{'id': '20002308', 'name': 'Hvis stroboskop', 'values': [{'id': '30002518', 'name': 'UIDENTIFISERT'}, {'id': '30002654', 'name': 'JA'}, {'id': '30002960', 'name': 'NEI'}]}, {'id': '20002309', 'name': 'Hvis med luft horn', 'values': [{'id': '30002518', 'name': 'UIDENTIFISERT'}, {'id': '30002654', 'name': 'JA'}, {'id': '30002960', 'name': 'NEI'}]}]}, {'id': '10005379', 'name': 'Selvforsvarsprayer', 'attributes': [{'id': '20002044', 'name': 'Hvis med alarm', 'values': [{'id': '30002518', 'name': 'UIDENTIFISERT'}, {'id': '30002654', 'name': 'JA'}, {'id': '30002960', 'name': 'NEI'}]}, {'id': '20002310', 'name': 'Hvis med ultrafiolett farge', 'values': [{'id': '30002518', 'name': 'UIDENTIFISERT'}, {'id': '30002654', 'name': 'JA'}, {'id': '30002960', 'name': 'NEI'}]}, {'id': '20002352', 'name': 'Hvis med pÃ¥fyllbar gassbeholder', 'values': [{'id': '30002518', 'name': 'UIDENTIFISERT'}, {'id': '30002654', 'name': 'JA'}, {'id': '30002960', 'name': 'NEI'}]}]}, {'id': '10005380', 'name': 'ElektrosjokkvÃ¥pen', 'attributes': [{'id': '20002305', 'name': 'Hvis med lommelykt', 'values': [{'id': '30002518', 'name': 'UIDENTIFISERT'}, {'id': '30002654', 'name': 'JA'}, {'id': '30002960', 'name': 'NEI'}]}, {'id': '20002311', 'name': 'Hvis oppladbar', 'values': [{'id': '30002518', 'name': 'UIDENTIFISERT'}, {'id': '30002654', 'name': 'JA'}, {'id': '30002960', 'name': 'NEI'}]}]}, {'id': '10005381', 'name': 'BÃ¦rbare webkamera (omvendt overvÃ¥king)', 'attributes': [{'id': '20002312', 'name': 'Audio / visuell', 'values': [{'id': '30002515', 'name': 'UKLASSIFISERT'}, {'id': '30002518', 'name': 'UIDENTIFISERT'}, {'id': '30012018', 'name': 'KUN AUDIO'}, {'id': '30012019', 'name': 'AUDIO OG VISUELL'}, {'id': '30012020', 'name': 'KUN VISUELL'}]}]}, {'id': '10005382', 'name': 'Personlig sikkerhetsutstyr - flerpakk'}, {'id': '10005472', 'name': 'Overlevelsestepper / soveposer'}, {'id': '10006850', 'name': 'Fjernstyrte kjÃ¸retÃ¸y', 'attributes': [{'id': '20002311', 'name': 'Hvis oppladbar', 'values': [{'id': '30002518', 'name': 'UIDENTIFISERT'}, {'id': '30002654', 'name': 'JA'}, {'id': '30002960', 'name': 'NEI'}]}, {'id': '20003024', 'name': 'Hvis med integrert kamera', 'values': [{'id': '30002518', 'name': 'UIDENTIFISERT'}, {'id': '30002654', 'name': 'JA'}, {'id': '30002960', 'name': 'NEI'}]}]}, {'id': '10006851', 'name': 'Fjernstyrte kjÃ¸retÃ¸y - reservedeler og tilbehÃ¸r'}]\n"
     ]
    }
   ],
   "source": [
    "import json\r\n",
    "\r\n",
    "with open(\"GPC_segments.json\",'r') as temp:\r\n",
    "    gpc = json.load(temp)[\"data\"][\"segments\"]\r\n",
    "\r\n",
    "\r\n",
    "\"Data - Segments\"\r\n",
    "#print(gpc[0][\"id\"],gpc[0][\"name\"])\r\n",
    "\r\n",
    "\"Data - families\"\r\n",
    "#print(gpc[0][\"families\"][0][\"id\"],gpc[0][\"families\"][0][\"name\"])\r\n",
    "\r\n",
    "print(gpc[0][\"families\"][0][\"classes\"][0][\"bricks\"])\r\n",
    "\r\n",
    "\r\n"
   ]
  }
 ],
 "metadata": {
  "interpreter": {
   "hash": "b8488343e509b415c98a857491a9b4c90395f9a45992da0bb6102fdf120e22ce"
  },
  "kernelspec": {
   "display_name": "Python 3.9.5 32-bit",
   "name": "python3"
  },
  "language_info": {
   "codemirror_mode": {
    "name": "ipython",
    "version": 3
   },
   "file_extension": ".py",
   "mimetype": "text/x-python",
   "name": "python",
   "nbconvert_exporter": "python",
   "pygments_lexer": "ipython3",
   "version": "3.9.5"
  },
  "orig_nbformat": 4
 },
 "nbformat": 4,
 "nbformat_minor": 2
}